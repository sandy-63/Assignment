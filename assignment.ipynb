{
 "cells": [
  {
   "cell_type": "code",
   "execution_count": 22,
   "metadata": {},
   "outputs": [
    {
     "name": "stdout",
     "output_type": "stream",
     "text": [
      "date of yesterday is  2022-07-27\n"
     ]
    }
   ],
   "source": [
    "#1. Write a code to print yesterday's date and time.\n",
    "import datetime \n",
    "today = datetime.date.today()\n",
    "yesterday = today - datetime.timedelta(days = 1)\n",
    "print(\"date of yesterday is \",yesterday)"
   ]
  },
  {
   "cell_type": "code",
   "execution_count": 19,
   "metadata": {},
   "outputs": [
    {
     "name": "stdout",
     "output_type": "stream",
     "text": [
      "03:15pm\n"
     ]
    }
   ],
   "source": [
    "#2. Given the pre-market time at 9:15 of a particular day, write a code to calculate market close time i.e 6 hours \n",
    "#and 15 minutes after the open time.\n",
    "class Market:\n",
    "   def func(self, pre_markettime, t_min):#t_min= total time in minutes\n",
    "      hour, min = map(int, pre_markettime[:-2].split(':'))\n",
    "      hour %= 12\n",
    "      if pre_markettime[-2:] == 'pm':\n",
    "         hour += 12\n",
    "      t = hour * 60 + min + t_min\n",
    "      hour, min = divmod(t, 60)\n",
    "      hour %= 24\n",
    "      suffix = 'a' if hour < 12 else 'p'\n",
    "      hour %= 12\n",
    "      if hour == 0:\n",
    "         hour = 12\n",
    "      return \"{:02d}:{:02d}{}m\".format(hour, min, suffix)\n",
    "ob = Market()\n",
    "print(ob.func(\"9:15am\", 360))"
   ]
  },
  {
   "cell_type": "code",
   "execution_count": null,
   "metadata": {},
   "outputs": [],
   "source": [
    "#3. Difference between Threading and multiprocessing.\n",
    "#Threading:-\n",
    "    Threding is a sequence of instruction in a program that can be excuted independently of \n",
    "    the remaining program.\n",
    "    Thread allow the program to run task parallel.\n",
    "    example: Video Game\n",
    "            1- one thread for graphics\n",
    "            2- one thread for user interface\n",
    "            3- one thread for networking.\n"
   ]
  },
  {
   "cell_type": "code",
   "execution_count": 23,
   "metadata": {},
   "outputs": [
    {
     "name": "stdout",
     "output_type": "stream",
     "text": [
      "Starting a task...Starting a task...\n",
      "\n",
      "donedone\n",
      "\n",
      "It took  1.40 second(s) to complete.\n"
     ]
    }
   ],
   "source": [
    "#exaple of threading\n",
    "from threading import Thread\n",
    "import time\n",
    "def task():\n",
    "    print('Starting a task...')\n",
    "    sleep(1)\n",
    "    print('done')\n",
    "\n",
    "start_time = perf_counter()\n",
    "# create two new threads\n",
    "t1 = Thread(target=task)\n",
    "t2 = Thread(target=task)\n",
    "# start the threads\n",
    "t1.start()\n",
    "t2.start()\n",
    "# wait for the threads to complete\n",
    "t1.join()\n",
    "t2.join()\n",
    "end_time = perf_counter()\n",
    "print(f'It took {end_time- start_time: 0.2f} second(s) to complete.')"
   ]
  },
  {
   "cell_type": "code",
   "execution_count": null,
   "metadata": {},
   "outputs": [],
   "source": [
    "# Multiprocessing\n",
    "    It is built-in packages that allow the system run multiple processes simultaneously,\n",
    "    It will enable the breaking of applications into smaller threads that can run independently."
   ]
  },
  {
   "cell_type": "code",
   "execution_count": 30,
   "metadata": {},
   "outputs": [
    {
     "name": "stdout",
     "output_type": "stream",
     "text": [
      "Done\n"
     ]
    }
   ],
   "source": [
    "#Example:\n",
    "import time\n",
    "import multiprocessing\n",
    "\n",
    "def calc_square(num):\n",
    "    for n in num:\n",
    "        time.sleep(1)\n",
    "        print(\"square\" + str(n*n))\n",
    "def calc_cube(num):\n",
    "    for n in num:\n",
    "        time.sleep(1)\n",
    "        print(\"cube\" + str(n*n*n))\n",
    "        \n",
    "if __name__==\"__main__\":\n",
    "    arr=[3,4,5,6,7]\n",
    "    p1=multiprocessing.Process(target=calc_square, args=(arr,))\n",
    "    p2=multiprocessing.Process(target=calc_cube, args=(arr,))\n",
    "    \n",
    "    p1.start()\n",
    "    p2.start()\n",
    "    \n",
    "    p1.join()\n",
    "    p2.join()\n",
    "    print(\"Done\")"
   ]
  },
  {
   "cell_type": "code",
   "execution_count": null,
   "metadata": {},
   "outputs": [],
   "source": [
    "# NOTE \n",
    "The main difference between threading and multiprocessing is:\n",
    "    -->  threads run in the same memory space, while processes have separate memory.\n",
    "    --> A process is a collection of code, memory, data and other resources, while thread is\n",
    "         a sequence of code that is executed within the scope of the process.\n",
    "        \n",
    "    --> multithreading refers to the ability of a processor to execute multiple threads concurrently,\n",
    "        where each thread runs a process. Whereas multiprocessing refers to the ability of a \n",
    "        system to run multiple processors concurrently.\n",
    "    "
   ]
  }
 ],
 "metadata": {
  "kernelspec": {
   "display_name": "Python 3",
   "language": "python",
   "name": "python3"
  },
  "language_info": {
   "codemirror_mode": {
    "name": "ipython",
    "version": 3
   },
   "file_extension": ".py",
   "mimetype": "text/x-python",
   "name": "python",
   "nbconvert_exporter": "python",
   "pygments_lexer": "ipython3",
   "version": "3.7.3"
  }
 },
 "nbformat": 4,
 "nbformat_minor": 2
}
